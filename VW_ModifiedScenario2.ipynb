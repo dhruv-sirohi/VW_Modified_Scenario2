{
  "nbformat": 4,
  "nbformat_minor": 0,
  "metadata": {
    "colab": {
      "name": "Untitled2.ipynb",
      "provenance": [],
      "collapsed_sections": []
    },
    "kernelspec": {
      "name": "python3",
      "display_name": "Python 3"
    }
  },
  "cells": [
    {
      "cell_type": "code",
      "metadata": {
        "colab": {
          "base_uri": "https://localhost:8080/"
        },
        "id": "CEfeqO3ZpAU5",
        "outputId": "c53eb163-caa8-44b8-c85d-4040bf40ab75"
      },
      "source": [
        "!pip3 install vowpalwabbit\r\n",
        "from vowpalwabbit import pyvw\r\n",
        "import random\r\n",
        "import matplotlib.pyplot as plt"
      ],
      "execution_count": 2,
      "outputs": [
        {
          "output_type": "stream",
          "text": [
            "Collecting vowpalwabbit\n",
            "\u001b[?25l  Downloading https://files.pythonhosted.org/packages/6a/36/cad256884b2ca71e80258b9ecdb530e34ac45fc09fd660f10e90afbf6919/vowpalwabbit-8.9.0-cp37-cp37m-manylinux2010_x86_64.whl (2.2MB)\n",
            "\u001b[K     |████████████████████████████████| 2.2MB 9.1MB/s \n",
            "\u001b[?25hInstalling collected packages: vowpalwabbit\n",
            "Successfully installed vowpalwabbit-8.9.0\n"
          ],
          "name": "stdout"
        }
      ]
    },
    {
      "cell_type": "markdown",
      "metadata": {
        "id": "yanC6Ir6p68p"
      },
      "source": [
        "Original code from: https://vowpalwabbit.org/tutorials/cb_simulation.html"
      ]
    },
    {
      "cell_type": "code",
      "metadata": {
        "id": "4IrAb5OCpgGV"
      },
      "source": [
        "# VW tries to minimize loss/cost, therefore we will pass cost as -reward\r\n",
        "USER_LIKED_ARTICLE = -1.0\r\n",
        "USER_DISLIKED_ARTICLE = 0.0"
      ],
      "execution_count": 3,
      "outputs": []
    },
    {
      "cell_type": "markdown",
      "metadata": {
        "id": "v4r5RLIkp6Ti"
      },
      "source": [
        ""
      ]
    },
    {
      "cell_type": "code",
      "metadata": {
        "id": "ozRbwvTaphFT"
      },
      "source": [
        "def get_cost(context,action):\r\n",
        "    if context['user'] == \"Tom\":\r\n",
        "        if context['time_of_day'] == \"morning\" and action == 'politics':\r\n",
        "            return USER_LIKED_ARTICLE\r\n",
        "        elif context['time_of_day'] == \"afternoon\" and action == 'music':\r\n",
        "            return USER_LIKED_ARTICLE\r\n",
        "        else:\r\n",
        "            return USER_DISLIKED_ARTICLE\r\n",
        "    elif context['user'] == \"Anna\":\r\n",
        "        if context['time_of_day'] == \"morning\" and action == 'sports':\r\n",
        "            return USER_LIKED_ARTICLE\r\n",
        "        elif context['time_of_day'] == \"afternoon\" and action == 'politics':\r\n",
        "            return USER_LIKED_ARTICLE\r\n",
        "        else:\r\n",
        "            return USER_DISLIKED_ARTICLE"
      ],
      "execution_count": 4,
      "outputs": []
    },
    {
      "cell_type": "code",
      "metadata": {
        "id": "Wv70wewgpsFL"
      },
      "source": [
        "# This function modifies (context, action, cost, probability) to VW friendly format\r\n",
        "def to_vw_example_format(context, actions, cb_label = None):\r\n",
        "    if cb_label is not None:\r\n",
        "        chosen_action, cost, prob = cb_label\r\n",
        "    example_string = \"\"\r\n",
        "    example_string += \"shared |User user={} time_of_day={}\\n\".format(context[\"user\"], context[\"time_of_day\"])\r\n",
        "    for action in actions:\r\n",
        "        if cb_label is not None and action == chosen_action:\r\n",
        "            example_string += \"0:{}:{} \".format(cost, prob)\r\n",
        "        example_string += \"|Action article={} \\n\".format(action)\r\n",
        "    #Strip the last newline\r\n",
        "    return example_string[:-1]"
      ],
      "execution_count": 5,
      "outputs": []
    },
    {
      "cell_type": "code",
      "metadata": {
        "colab": {
          "base_uri": "https://localhost:8080/"
        },
        "id": "58jE8BaUqGl_",
        "outputId": "0786c4bc-0779-4d5e-bda3-5532dd10cf05"
      },
      "source": [
        "context = {\"user\":\"Tom\",\"time_of_day\":\"morning\"}\r\n",
        "actions = [\"politics\", \"sports\", \"music\", \"food\"]\r\n",
        "\r\n",
        "print(to_vw_example_format(context,actions))"
      ],
      "execution_count": 6,
      "outputs": [
        {
          "output_type": "stream",
          "text": [
            "shared |User user=Tom time_of_day=morning\n",
            "|Action article=politics \n",
            "|Action article=sports \n",
            "|Action article=music \n",
            "|Action article=food \n"
          ],
          "name": "stdout"
        }
      ]
    },
    {
      "cell_type": "code",
      "metadata": {
        "id": "f1Mzp0L2qG8L"
      },
      "source": [
        "def sample_custom_pmf(pmf):\r\n",
        "    total = sum(pmf)\r\n",
        "    scale = 1 / total\r\n",
        "    pmf = [x * scale for x in pmf]\r\n",
        "    draw = random.random()\r\n",
        "    sum_prob = 0.0\r\n",
        "    for index, prob in enumerate(pmf):\r\n",
        "        sum_prob += prob\r\n",
        "        if(sum_prob > draw):\r\n",
        "            return index, prob"
      ],
      "execution_count": 7,
      "outputs": []
    },
    {
      "cell_type": "code",
      "metadata": {
        "id": "dMQXobsdq8g0"
      },
      "source": [
        "def get_action(vw, context, actions):\r\n",
        "    vw_text_example = to_vw_example_format(context,actions)\r\n",
        "    pmf = vw.predict(vw_text_example)\r\n",
        "    chosen_action_index, prob = sample_custom_pmf(pmf)\r\n",
        "    return actions[chosen_action_index], prob"
      ],
      "execution_count": 8,
      "outputs": []
    },
    {
      "cell_type": "code",
      "metadata": {
        "id": "9b4yo1mDrERq"
      },
      "source": [
        "users = ['Tom', 'Anna']\r\n",
        "times_of_day = ['morning', 'afternoon']\r\n",
        "actions = [\"politics\", \"sports\", \"music\", \"food\", \"finance\", \"health\", \"camping\"]\r\n",
        "\r\n",
        "def choose_user(users):\r\n",
        "    return random.choice(users)\r\n",
        "\r\n",
        "def choose_time_of_day(times_of_day):\r\n",
        "    return random.choice(times_of_day)"
      ],
      "execution_count": 9,
      "outputs": []
    },
    {
      "cell_type": "code",
      "metadata": {
        "id": "GTiqpmimrFPT"
      },
      "source": [
        "def run_simulation(vw, num_iterations, users, times_of_day, actions, cost_function, do_learn = True):\r\n",
        "    cost_sum = 0.\r\n",
        "    ctr = []\r\n",
        "\r\n",
        "    for i in range(1, num_iterations+1):\r\n",
        "        # 1. In each simulation choose a user\r\n",
        "        user = choose_user(users)\r\n",
        "        # 2. Choose time of day for a given user\r\n",
        "        time_of_day = choose_time_of_day(times_of_day)\r\n",
        "\r\n",
        "        # 3. Pass context to vw to get an action\r\n",
        "        context = {'user': user, 'time_of_day': time_of_day}\r\n",
        "        action, prob = get_action(vw, context, actions)\r\n",
        "\r\n",
        "        # 4. Get cost of the action we chose\r\n",
        "        cost = cost_function(context, action)\r\n",
        "        cost_sum += cost\r\n",
        "\r\n",
        "        if do_learn:\r\n",
        "            # 5. Inform VW of what happened so we can learn from it\r\n",
        "            vw_format = vw.parse(to_vw_example_format(context, actions, (action, cost, prob)),pyvw.vw.lContextualBandit)\r\n",
        "            # 6. Learn\r\n",
        "            vw.learn(vw_format)\r\n",
        "            # 7. Let VW know you're done with these objects\r\n",
        "            vw.finish_example(vw_format)\r\n",
        "\r\n",
        "        # We negate this so that on the plot instead of minimizing cost, we are maximizing reward\r\n",
        "        ctr.append(-1*cost_sum/i)\r\n",
        "\r\n",
        "    return ctr"
      ],
      "execution_count": 10,
      "outputs": []
    },
    {
      "cell_type": "code",
      "metadata": {
        "id": "ltgE_1fkrqeJ"
      },
      "source": [
        "def plot_ctr(num_iterations, ctr, title = None):\r\n",
        "    if title != None:\r\n",
        "        plt.title(title)\r\n",
        "    plt.plot(range(1,num_iterations+1), ctr)\r\n",
        "    plt.xlabel('num_iterations', fontsize=14)\r\n",
        "    plt.ylabel('ctr', fontsize=14)\r\n",
        "    plt.ylim([0,1])\r\n",
        "    plt.legend()"
      ],
      "execution_count": 118,
      "outputs": []
    },
    {
      "cell_type": "code",
      "metadata": {
        "colab": {
          "base_uri": "https://localhost:8080/",
          "height": 287
        },
        "id": "TKp_IcwKrwKl",
        "outputId": "9a889a9c-ffa1-4ea0-de5d-b81a66bc1867"
      },
      "source": [
        "vw = pyvw.vw(\"--cb_explore_adf -q UA --quiet --epsilon 0.2\")\r\n",
        "\r\n",
        "num_iterations = 5000\r\n",
        "ctr = run_simulation(vw, num_iterations, users, times_of_day, actions, get_cost)\r\n",
        "\r\n",
        "plot_ctr(num_iterations, ctr)"
      ],
      "execution_count": 12,
      "outputs": [
        {
          "output_type": "display_data",
          "data": {
            "image/png": "[encoded data removed]",
            "text/plain": [
              "<Figure size 432x288 with 1 Axes>"
            ]
          },
          "metadata": {
            "tags": [],
            "needs_background": "light"
          }
        }
      ]
    },
    {
      "cell_type": "code",
      "metadata": {
        "colab": {
          "base_uri": "https://localhost:8080/",
          "height": 287
        },
        "id": "XjPhNfx-sEeT",
        "outputId": "05aca5ae-2283-431e-de03-0e6979be3b65"
      },
      "source": [
        "# Instantiate learner in VW but without -q\r\n",
        "vw = pyvw.vw(\"--cb_explore_adf --quiet --epsilon 0.2\")\r\n",
        "\r\n",
        "num_iterations = 5000\r\n",
        "ctr = run_simulation(vw, num_iterations, users, times_of_day, actions, get_cost)\r\n",
        "\r\n",
        "plot_ctr(num_iterations, ctr)"
      ],
      "execution_count": 13,
      "outputs": [
        {
          "output_type": "display_data",
          "data": {
            "image/png": "[encoded data removed]",
            "text/plain": [
              "<Figure size 432x288 with 1 Axes>"
            ]
          },
          "metadata": {
            "tags": [],
            "needs_background": "light"
          }
        }
      ]
    },
    {
      "cell_type": "code",
      "metadata": {
        "colab": {
          "base_uri": "https://localhost:8080/",
          "height": 287
        },
        "id": "C2WCOOLZsH6h",
        "outputId": "c635b640-0d20-456b-c2f4-b0659037f630"
      },
      "source": [
        "# Instantiate learner in VW\r\n",
        "vw = pyvw.vw(\"--cb_explore_adf -q UA --quiet --epsilon 0.2\")\r\n",
        "\r\n",
        "num_iterations = 5000\r\n",
        "ctr = run_simulation(vw, num_iterations, users, times_of_day, actions, get_cost, do_learn=False)\r\n",
        "\r\n",
        "plot_ctr(num_iterations, ctr)"
      ],
      "execution_count": 14,
      "outputs": [
        {
          "output_type": "display_data",
          "data": {
            "image/png": "[encoded data removed]",
            "text/plain": [
              "<Figure size 432x288 with 1 Axes>"
            ]
          },
          "metadata": {
            "tags": [],
            "needs_background": "light"
          }
        }
      ]
    },
    {
      "cell_type": "code",
      "metadata": {
        "id": "tIn3Kuz0sp6R"
      },
      "source": [
        "def get_cost_new1(context,action):\r\n",
        "    if context['user'] == \"Tom\":\r\n",
        "        if context['time_of_day'] == \"morning\" and action == 'politics':\r\n",
        "            return USER_LIKED_ARTICLE\r\n",
        "        elif context['time_of_day'] == \"afternoon\" and action == 'sports':\r\n",
        "            return USER_LIKED_ARTICLE\r\n",
        "        else:\r\n",
        "            return USER_DISLIKED_ARTICLE\r\n",
        "    elif context['user'] == \"Anna\":\r\n",
        "        if context['time_of_day'] == \"morning\" and action == 'sports':\r\n",
        "            return USER_LIKED_ARTICLE\r\n",
        "        elif context['time_of_day'] == \"afternoon\" and action == 'sports':\r\n",
        "            return USER_LIKED_ARTICLE\r\n",
        "        else:\r\n",
        "            return USER_DISLIKED_ARTICLE"
      ],
      "execution_count": 16,
      "outputs": []
    },
    {
      "cell_type": "code",
      "metadata": {
        "id": "-Tnai9wPszBx"
      },
      "source": [
        "def run_simulation_multiple_cost_functions(vw, num_iterations, users, times_of_day, actions, cost_functions, do_learn = True):\r\n",
        "    cost_sum = 0.\r\n",
        "    ctr = []\r\n",
        "\r\n",
        "    start_counter = 1\r\n",
        "    end_counter = start_counter + num_iterations\r\n",
        "    for cost_function in cost_functions:\r\n",
        "        for i in range(start_counter, end_counter):\r\n",
        "            # 1. in each simulation choose a user\r\n",
        "            user = choose_user(users)\r\n",
        "            # 2. choose time of day for a given user\r\n",
        "            time_of_day = choose_time_of_day(times_of_day)\r\n",
        "\r\n",
        "            # Construct context based on chosen user and time of day\r\n",
        "            context = {'user': user, 'time_of_day': time_of_day}\r\n",
        "\r\n",
        "            # 3. Use the get_action function we defined earlier\r\n",
        "            action, prob = get_action(vw, context, actions)\r\n",
        "\r\n",
        "            # 4. Get cost of the action we chose\r\n",
        "            cost = cost_function(context, action)\r\n",
        "            cost_sum += cost\r\n",
        "\r\n",
        "            if do_learn:\r\n",
        "                # 5. Inform VW of what happened so we can learn from it\r\n",
        "                vw_format = vw.parse(to_vw_example_format(context, actions, (action, cost, prob)),pyvw.vw.lContextualBandit)\r\n",
        "                # 6. Learn\r\n",
        "                vw.learn(vw_format)\r\n",
        "\r\n",
        "            # We negate this so that on the plot instead of minimizing cost, we are maximizing reward\r\n",
        "            ctr.append(-1*cost_sum/i)\r\n",
        "        start_counter = end_counter\r\n",
        "        end_counter = start_counter + num_iterations\r\n",
        "\r\n",
        "    return ctr"
      ],
      "execution_count": 55,
      "outputs": []
    },
    {
      "cell_type": "code",
      "metadata": {
        "colab": {
          "base_uri": "https://localhost:8080/",
          "height": 287
        },
        "id": "FU9e2EYcs1bp",
        "outputId": "093ca66e-8f9f-403f-8e65-2c44edeb83b0"
      },
      "source": [
        "vw = pyvw.vw(\"--cb_explore_adf -q UA --quiet --epsilon 0.2\")\r\n",
        "\r\n",
        "num_iterations_per_cost_func = 5000\r\n",
        "cost_functions = [get_cost, get_cost_new1]\r\n",
        "total_iterations = num_iterations_per_cost_func * len(cost_functions)\r\n",
        "\r\n",
        "ctr = run_simulation_multiple_cost_functions(vw, num_iterations_per_cost_func, users, times_of_day, actions, cost_functions)\r\n",
        "\r\n",
        "plot_ctr(total_iterations, ctr)"
      ],
      "execution_count": 59,
      "outputs": [
        {
          "output_type": "display_data",
          "data": {
            "image/png": "[encoded data removed]",
            "text/plain": [
              "<Figure size 432x288 with 1 Axes>"
            ]
          },
          "metadata": {
            "tags": [],
            "needs_background": "light"
          }
        }
      ]
    },
    {
      "cell_type": "markdown",
      "metadata": {
        "id": "JxFBwFPV4j6q"
      },
      "source": [
        "**Adding Noise + Multiple Changes to Reward Distribution**\r\n",
        "\r\n",
        "Assumption: 'introducing varying noise' is assumed to mean adding a random noise distribution with a mean of 0, instead of a noise distribution that is time variant.\r\n",
        "\r\n",
        "This code contains a modified version of the get_cost function that generates random noise which is added to the reward signal. This modified function has a new input: the noise to signal ratio.\r\n",
        "\r\n",
        "There will also be 3 changes to the reward distribution over the course of training."
      ]
    },
    {
      "cell_type": "code",
      "metadata": {
        "id": "lyjkkzC74i-B"
      },
      "source": [
        "#Defining the various noisy cost functions\r\n",
        "#New input: noise_ratio\r\n",
        "\r\n",
        "def get_noisy_cost1(context,action,noise_ratio):\r\n",
        "    #this modified function is identical in structure to the previous get_cost functions, but with an additional noise generator.\r\n",
        "\r\n",
        "    #random.random() outputs values from 0 to 1, so the following code centres the distribution around 0 and scales it\r\n",
        "    #the reward values range from -1 to 0, so to scale the noise, we only need to multiply it by the noise_ratio    \r\n",
        "    noise_val = noise_ratio*(random.random() -  1/2)\r\n",
        "\r\n",
        "    if context['user'] == \"Tom\":\r\n",
        "        if context['time_of_day'] == \"morning\" and action == 'politics':\r\n",
        "            return USER_LIKED_ARTICLE + noise_val\r\n",
        "        elif context['time_of_day'] == \"afternoon\" and action == 'sports':\r\n",
        "            return USER_LIKED_ARTICLE + noise_val\r\n",
        "        else:\r\n",
        "            return USER_DISLIKED_ARTICLE + noise_val\r\n",
        "    elif context['user'] == \"Anna\":\r\n",
        "        if context['time_of_day'] == \"morning\" and action == 'sports':\r\n",
        "            return USER_LIKED_ARTICLE + noise_val\r\n",
        "        elif context['time_of_day'] == \"afternoon\" and action == 'sports':\r\n",
        "            return USER_LIKED_ARTICLE + noise_val\r\n",
        "        else:\r\n",
        "            return USER_DISLIKED_ARTICLE + noise_val\r\n",
        "\r\n",
        "def get_noisy_cost2(context,action,noise_ratio):\r\n",
        "    noise_val = noise_ratio * (random.random() -  1/2)\r\n",
        "    if context['user'] == \"Tom\":\r\n",
        "        if context['time_of_day'] == \"morning\" and action == 'music':\r\n",
        "            return USER_LIKED_ARTICLE + noise_val\r\n",
        "        elif context['time_of_day'] == \"afternoon\" and action == 'sports':\r\n",
        "            return USER_LIKED_ARTICLE + noise_val\r\n",
        "        else:\r\n",
        "            return USER_DISLIKED_ARTICLE + noise_val\r\n",
        "    elif context['user'] == \"Anna\":\r\n",
        "        if context['time_of_day'] == \"morning\" and action == 'politics':\r\n",
        "            return USER_LIKED_ARTICLE + noise_val\r\n",
        "        elif context['time_of_day'] == \"afternoon\" and action == 'sports':\r\n",
        "            return USER_LIKED_ARTICLE + noise_val\r\n",
        "        else:\r\n",
        "            return USER_DISLIKED_ARTICLE + noise_val\r\n",
        "\r\n",
        "def get_noisy_cost3(context,action,noise_ratio):\r\n",
        "    noise_val = noise_ratio * (random.random() -  1/2)\r\n",
        "    if context['user'] == \"Tom\":        \r\n",
        "        if context['time_of_day'] == \"morning\" and action == 'music':\r\n",
        "            return USER_LIKED_ARTICLE + noise_val\r\n",
        "        elif context['time_of_day'] == \"afternoon\" and action == 'politics':\r\n",
        "            return USER_LIKED_ARTICLE + noise_val\r\n",
        "        else:\r\n",
        "            return USER_DISLIKED_ARTICLE + noise_val\r\n",
        "    elif context['user'] == \"Anna\":\r\n",
        "        if context['time_of_day'] == \"morning\" and action == 'music':\r\n",
        "            return USER_LIKED_ARTICLE + noise_val\r\n",
        "        elif context['time_of_day'] == \"afternoon\" and action == 'sports':\r\n",
        "            return USER_LIKED_ARTICLE + noise_val\r\n",
        "        else:\r\n",
        "            return USER_DISLIKED_ARTICLE + noise_val"
      ],
      "execution_count": 83,
      "outputs": []
    },
    {
      "cell_type": "code",
      "metadata": {
        "id": "_milNYor_-7R"
      },
      "source": [
        "#Defining a function to run a simulation with multiple noisy cost functions\r\n",
        "#New input: noise_ratio\r\n",
        "\r\n",
        "def run_simulation_multiple_noisy_cost_functions(vw, num_iterations, users, times_of_day, actions, cost_functions, noise_ratio, do_learn = True):\r\n",
        "    cost_sum = 0.\r\n",
        "    ctr = []\r\n",
        "\r\n",
        "    start_counter = 1\r\n",
        "    end_counter = start_counter + num_iterations\r\n",
        "    for cost_function in cost_functions:\r\n",
        "        for i in range(start_counter, end_counter):\r\n",
        "            # 1. in each simulation choose a user\r\n",
        "            user = choose_user(users)\r\n",
        "            # 2. choose time of day for a given user\r\n",
        "            time_of_day = choose_time_of_day(times_of_day)\r\n",
        "\r\n",
        "            # Construct context based on chosen user and time of day\r\n",
        "            context = {'user': user, 'time_of_day': time_of_day}\r\n",
        "\r\n",
        "            # 3. Use the get_action function we defined earlier\r\n",
        "            action, prob = get_action(vw, context, actions)\r\n",
        "\r\n",
        "            # 4. Get cost of the action we chose\r\n",
        "            cost = cost_function(context, action, noise_ratio)\r\n",
        "            cost_sum += cost\r\n",
        "\r\n",
        "            if do_learn:\r\n",
        "                # 5. Inform VW of what happened so we can learn from it\r\n",
        "                vw_format = vw.parse(to_vw_example_format(context, actions, (action, cost, prob)),pyvw.vw.lContextualBandit)\r\n",
        "                # 6. Learn\r\n",
        "                vw.learn(vw_format)\r\n",
        "\r\n",
        "            # We negate this so that on the plot instead of minimizing cost, we are maximizing reward\r\n",
        "            ctr.append(-1*cost_sum/i)\r\n",
        "        start_counter = end_counter\r\n",
        "        end_counter = start_counter + num_iterations\r\n",
        "\r\n",
        "    return ctr"
      ],
      "execution_count": 80,
      "outputs": []
    },
    {
      "cell_type": "code",
      "metadata": {
        "id": "x_CHQs_fF4Lu"
      },
      "source": [
        "#Defining a modified ctr plotting function which takes in an array of ctr series and labels\r\n",
        "#modified inputs: ctr is replaced by ctr_array, which is a 2D array with the following structure: [[ctr_1,\"ctr_1_label\"],[ctr_2,\"ctr_2_label\"]...]\r\n",
        "#This new function can now plot multiple labelled ctr series\r\n",
        "\r\n",
        "def plot_ctr_multiple(num_iterations, ctr_array, title= None):\r\n",
        "    if title != None:\r\n",
        "        plt.title(title)\r\n",
        "    for ctr in ctr_array:\r\n",
        "      plt.plot(range(1,num_iterations+1), ctr[0],label=ctr[1])\r\n",
        "    plt.xlabel('num_iterations', fontsize=14)\r\n",
        "    plt.ylabel('ctr', fontsize=14)\r\n",
        "    plt.legend(loc=\"lower right\")\r\n",
        "    plt.ylim([0,1])\r\n",
        "    plt.legend()"
      ],
      "execution_count": 129,
      "outputs": []
    },
    {
      "cell_type": "code",
      "metadata": {
        "colab": {
          "base_uri": "https://localhost:8080/",
          "height": 299
        },
        "id": "cqNSP3HC_wc8",
        "outputId": "edf1b4fd-b383-42de-b548-255f531b320e"
      },
      "source": [
        "#initializing the different algorithms\r\n",
        "vw_explore_first = pyvw.vw(\"--cb_explore_adf -q UA --quiet --first 2\")\r\n",
        "vw_epsilon_greedy = pyvw.vw(\"--cb_explore_adf -q UA --quiet --epsilon 0.1\")\r\n",
        "vw_softmax = pyvw.vw(\"--cb_explore_adf -q UA --quiet --softmax --lambda 10\")\r\n",
        "\r\n",
        "num_iterations_per_cost_func = 5000\r\n",
        "noise_ratio = 0.05\r\n",
        "\r\n",
        "cost_functions = [get_noisy_cost1, get_noisy_cost2, get_noisy_cost3]\r\n",
        "total_iterations = num_iterations_per_cost_func * len(cost_functions)\r\n",
        "\r\n",
        "#ctr series for each algorithm\r\n",
        "ctr_explore_first = run_simulation_multiple_noisy_cost_functions(vw_explore_first, num_iterations_per_cost_func, users, times_of_day, actions, cost_functions, noise_ratio)\r\n",
        "ctr_non_learning = run_simulation_multiple_noisy_cost_functions(vw_epsilon_greedy, num_iterations_per_cost_func, users, times_of_day, actions, cost_functions, noise_ratio, do_learn=False)\r\n",
        "ctr_epsilon_greedy = run_simulation_multiple_noisy_cost_functions(vw_epsilon_greedy, num_iterations_per_cost_func, users, times_of_day, actions, cost_functions, noise_ratio)\r\n",
        "ctr_softmax = run_simulation_multiple_noisy_cost_functions(vw_softmax, num_iterations_per_cost_func, users, times_of_day, actions, cost_functions, noise_ratio)\r\n",
        "\r\n",
        "#Initializes a 2D array in which each element contains a ctr series as well as the label for that series\r\n",
        "ctr_array = [[ctr_explore_first,\"Explore-first\"],[ctr_epsilon_greedy,\"Epsilon-greedy\"],[ctr_softmax,\"Softmax\"],[ctr_non_learning,\"Non-Learning\"]]\r\n",
        "\r\n",
        "#The plot_ctr function has been edited to support a plot title and can plot multiple series at a time\r\n",
        "plot_ctr_multiple(total_iterations, ctr_array,\"Performance of Multiple Algorithms in Noisy Scenario 2\")"
      ],
      "execution_count": 139,
      "outputs": [
        {
          "output_type": "display_data",
          "data": {
            "image/png": "[encoded data removed]",
            "text/plain": [
              "<Figure size 432x288 with 1 Axes>"
            ]
          },
          "metadata": {
            "tags": [],
            "needs_background": "light"
          }
        }
      ]
    },
    {
      "cell_type": "markdown",
      "metadata": {
        "id": "OrRxq7U4HknQ"
      },
      "source": [
        "**Comments on Algorithm Performance:**\r\n",
        "\r\n",
        "The Explore-first algorithm intitially performs very well, with an initial mean click through rate >0.95. This is likely because the initial randomness allows for thorough exploration of the state space. However, performance declines consistently once the reward distribution is changed. This is to be expected, as the policy learned from the initial exploration is no longer optimal. \r\n",
        "\r\n",
        "The Epsilon-Greedy algorithm consistently performs well, with a mean click through rate around ~0.9. After the reward distribution is changed, this algorithm suffers an initial drop in performance but soon improves. This is expected, because the epsilon-greedy exploration allows for changes in the reward distribution to be discovered relatively quickly.\r\n",
        "\r\n",
        "The Softmax algorithm also performs very well initially. It reaches a mean click through rate >0.95 until the first change in the reward distribution, after which performance deteriorates. Performance continues to decline for some time after the change, before improving. This is to be expected, because the non-zero tau value leads to less random exploration. This means that changes in the reward distribution aren't discovered as quickly.\r\n",
        "\r\n",
        "The Non-Learning algorithm consistently performs poorly, with a mean click through rate around ~0.15, which is significantly worse than all other algorithms. This value does not change as the reward distribution changes.\r\n"
      ]
    }
  ]
}